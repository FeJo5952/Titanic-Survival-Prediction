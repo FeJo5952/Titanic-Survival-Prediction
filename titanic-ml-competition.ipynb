{
 "cells": [
  {
   "cell_type": "code",
   "execution_count": 1,
   "id": "434da82b",
   "metadata": {
    "_cell_guid": "b1076dfc-b9ad-4769-8c92-a6c4dae69d19",
    "_uuid": "8f2839f25d086af736a60e9eeb907d3b93b6e0e5",
    "execution": {
     "iopub.execute_input": "2025-05-25T22:35:25.787208Z",
     "iopub.status.busy": "2025-05-25T22:35:25.786793Z",
     "iopub.status.idle": "2025-05-25T22:35:27.896557Z",
     "shell.execute_reply": "2025-05-25T22:35:27.895466Z"
    },
    "papermill": {
     "duration": 2.116567,
     "end_time": "2025-05-25T22:35:27.898883",
     "exception": false,
     "start_time": "2025-05-25T22:35:25.782316",
     "status": "completed"
    },
    "tags": []
   },
   "outputs": [
    {
     "name": "stdout",
     "output_type": "stream",
     "text": [
      "/kaggle/input/titanic/train.csv\n",
      "/kaggle/input/titanic/test.csv\n",
      "/kaggle/input/titanic/gender_submission.csv\n"
     ]
    }
   ],
   "source": [
    "# This Python 3 environment comes with many helpful analytics libraries installed\n",
    "# It is defined by the kaggle/python Docker image: https://github.com/kaggle/docker-python\n",
    "# For example, here's several helpful packages to load\n",
    "\n",
    "import numpy as np # linear algebra\n",
    "import pandas as pd # data processing, CSV file I/O (e.g. pd.read_csv)\n",
    "pd.set_option('display.max_rows', 30)\n",
    "\n",
    "# Input data files are available in the read-only \"../input/\" directory\n",
    "# For example, running this (by clicking run or pressing Shift+Enter) will list all files under the input directory\n",
    "\n",
    "import os\n",
    "for dirname, _, filenames in os.walk('/kaggle/input'):\n",
    "    for filename in filenames:\n",
    "        print(os.path.join(dirname, filename))\n",
    "\n",
    "# You can write up to 20GB to the current directory (/kaggle/working/) that gets preserved as output when you create a version using \"Save & Run All\" \n",
    "# You can also write temporary files to /kaggle/temp/, but they won't be saved outside of the current session"
   ]
  },
  {
   "cell_type": "code",
   "execution_count": 2,
   "id": "be8f3198",
   "metadata": {
    "execution": {
     "iopub.execute_input": "2025-05-25T22:35:27.909476Z",
     "iopub.status.busy": "2025-05-25T22:35:27.908551Z",
     "iopub.status.idle": "2025-05-25T22:35:27.951222Z",
     "shell.execute_reply": "2025-05-25T22:35:27.949724Z"
    },
    "papermill": {
     "duration": 0.049794,
     "end_time": "2025-05-25T22:35:27.952999",
     "exception": false,
     "start_time": "2025-05-25T22:35:27.903205",
     "status": "completed"
    },
    "tags": []
   },
   "outputs": [
    {
     "data": {
      "text/plain": [
       "0"
      ]
     },
     "execution_count": 2,
     "metadata": {},
     "output_type": "execute_result"
    }
   ],
   "source": [
    "train_data = pd.read_csv(\"/kaggle/input/titanic/train.csv\")\n",
    "train_data.head(20)\n",
    "train_data['Fare'].isnull().sum()\n"
   ]
  },
  {
   "cell_type": "code",
   "execution_count": 3,
   "id": "0fafe77f",
   "metadata": {
    "execution": {
     "iopub.execute_input": "2025-05-25T22:35:27.961195Z",
     "iopub.status.busy": "2025-05-25T22:35:27.959899Z",
     "iopub.status.idle": "2025-05-25T22:35:27.980611Z",
     "shell.execute_reply": "2025-05-25T22:35:27.979068Z"
    },
    "papermill": {
     "duration": 0.027415,
     "end_time": "2025-05-25T22:35:27.983505",
     "exception": false,
     "start_time": "2025-05-25T22:35:27.956090",
     "status": "completed"
    },
    "tags": []
   },
   "outputs": [
    {
     "name": "stdout",
     "output_type": "stream",
     "text": [
      "1\n",
      "0\n"
     ]
    },
    {
     "name": "stderr",
     "output_type": "stream",
     "text": [
      "/tmp/ipykernel_13/992764935.py:4: FutureWarning: A value is trying to be set on a copy of a DataFrame or Series through chained assignment using an inplace method.\n",
      "The behavior will change in pandas 3.0. This inplace method will never work because the intermediate object on which we are setting values always behaves as a copy.\n",
      "\n",
      "For example, when doing 'df[col].method(value, inplace=True)', try using 'df.method({col: value}, inplace=True)' or df[col] = df[col].method(value) instead, to perform the operation inplace on the original object.\n",
      "\n",
      "\n",
      "  test_data['Fare'].fillna(train_data['Fare'].mode()[0], inplace = True)\n"
     ]
    }
   ],
   "source": [
    "test_data = pd.read_csv(\"/kaggle/input/titanic/test.csv\")\n",
    "test_data.head()\n",
    "print(test_data['Fare'].isnull().sum())\n",
    "test_data['Fare'].fillna(train_data['Fare'].mode()[0], inplace = True)\n",
    "print(test_data['Fare'].isnull().sum())"
   ]
  },
  {
   "cell_type": "code",
   "execution_count": 4,
   "id": "bc43092b",
   "metadata": {
    "execution": {
     "iopub.execute_input": "2025-05-25T22:35:27.993412Z",
     "iopub.status.busy": "2025-05-25T22:35:27.992281Z",
     "iopub.status.idle": "2025-05-25T22:35:28.010866Z",
     "shell.execute_reply": "2025-05-25T22:35:28.009699Z"
    },
    "papermill": {
     "duration": 0.02553,
     "end_time": "2025-05-25T22:35:28.012961",
     "exception": false,
     "start_time": "2025-05-25T22:35:27.987431",
     "status": "completed"
    },
    "tags": []
   },
   "outputs": [
    {
     "data": {
      "text/plain": [
       "0.7420382165605095"
      ]
     },
     "execution_count": 4,
     "metadata": {},
     "output_type": "execute_result"
    }
   ],
   "source": [
    "total_women = train_data.loc[train_data.Sex =='female']\n",
    "women_survived = train_data.loc[(train_data.Sex == 'female') & (train_data.Survived == 1)]\n",
    "rate_women_survived = len(women_survived)/len(total_women)\n",
    "rate_women_survived"
   ]
  },
  {
   "cell_type": "code",
   "execution_count": 5,
   "id": "d82d42fe",
   "metadata": {
    "execution": {
     "iopub.execute_input": "2025-05-25T22:35:28.022574Z",
     "iopub.status.busy": "2025-05-25T22:35:28.021981Z",
     "iopub.status.idle": "2025-05-25T22:35:28.031560Z",
     "shell.execute_reply": "2025-05-25T22:35:28.030392Z"
    },
    "papermill": {
     "duration": 0.017274,
     "end_time": "2025-05-25T22:35:28.033795",
     "exception": false,
     "start_time": "2025-05-25T22:35:28.016521",
     "status": "completed"
    },
    "tags": []
   },
   "outputs": [
    {
     "data": {
      "text/plain": [
       "0.18890814558058924"
      ]
     },
     "execution_count": 5,
     "metadata": {},
     "output_type": "execute_result"
    }
   ],
   "source": [
    "total_men = train_data.loc[train_data.Sex == 'male']['Survived']\n",
    "rate_survived_men = sum(total_men)/len(total_men)\n",
    "rate_survived_men"
   ]
  },
  {
   "cell_type": "code",
   "execution_count": 6,
   "id": "f943c42f",
   "metadata": {
    "execution": {
     "iopub.execute_input": "2025-05-25T22:35:28.044362Z",
     "iopub.status.busy": "2025-05-25T22:35:28.043961Z",
     "iopub.status.idle": "2025-05-25T22:35:30.331551Z",
     "shell.execute_reply": "2025-05-25T22:35:30.330051Z"
    },
    "papermill": {
     "duration": 2.29441,
     "end_time": "2025-05-25T22:35:30.333270",
     "exception": false,
     "start_time": "2025-05-25T22:35:28.038860",
     "status": "completed"
    },
    "tags": []
   },
   "outputs": [
    {
     "name": "stdout",
     "output_type": "stream",
     "text": [
      "Everythig is done\n"
     ]
    }
   ],
   "source": [
    "#Machine Learning model\n",
    "from sklearn.ensemble import RandomForestClassifier\n",
    "\n",
    "y = train_data['Survived']\n",
    "\n",
    "features = ['Pclass','Sex','SibSp','Parch']\n",
    "X = pd.get_dummies(train_data[features])\n",
    "X_test = pd.get_dummies(test_data[features])\n",
    "X['Fare'] = train_data['Fare']\n",
    "X_test['Fare'] = test_data['Fare']\n",
    "\n",
    "\n",
    "model = RandomForestClassifier(n_estimators = 100, max_depth = 5, random_state = 1)\n",
    "model.fit(X,y)\n",
    "predictions = model.predict(X_test)\n",
    "\n",
    "output = pd.DataFrame({'PassengerId':test_data.PassengerId,'Survived':predictions})\n",
    "output.to_csv('submission.csv',index = False)\n",
    "print(\"Everythig is done\")"
   ]
  },
  {
   "cell_type": "code",
   "execution_count": null,
   "id": "bef4c2cf",
   "metadata": {
    "papermill": {
     "duration": 0.002359,
     "end_time": "2025-05-25T22:35:30.338365",
     "exception": false,
     "start_time": "2025-05-25T22:35:30.336006",
     "status": "completed"
    },
    "tags": []
   },
   "outputs": [],
   "source": []
  }
 ],
 "metadata": {
  "kaggle": {
   "accelerator": "none",
   "dataSources": [
    {
     "databundleVersionId": 26502,
     "sourceId": 3136,
     "sourceType": "competition"
    }
   ],
   "dockerImageVersionId": 31040,
   "isGpuEnabled": false,
   "isInternetEnabled": true,
   "language": "python",
   "sourceType": "notebook"
  },
  "kernelspec": {
   "display_name": "Python 3",
   "language": "python",
   "name": "python3"
  },
  "language_info": {
   "codemirror_mode": {
    "name": "ipython",
    "version": 3
   },
   "file_extension": ".py",
   "mimetype": "text/x-python",
   "name": "python",
   "nbconvert_exporter": "python",
   "pygments_lexer": "ipython3",
   "version": "3.11.11"
  },
  "papermill": {
   "default_parameters": {},
   "duration": 10.467328,
   "end_time": "2025-05-25T22:35:31.061664",
   "environment_variables": {},
   "exception": null,
   "input_path": "__notebook__.ipynb",
   "output_path": "__notebook__.ipynb",
   "parameters": {},
   "start_time": "2025-05-25T22:35:20.594336",
   "version": "2.6.0"
  }
 },
 "nbformat": 4,
 "nbformat_minor": 5
}
